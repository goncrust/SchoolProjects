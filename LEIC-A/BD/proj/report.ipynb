{
 "cells": [
  {
   "attachments": {},
   "cell_type": "markdown",
   "id": "7721816f-456c-41e6-85e4-3a346bf81b63",
   "metadata": {},
   "source": [
    "# Projeto de Bases de Dados - Parte 2\n",
    "\n",
    "### Docente Responsável\n",
    "\n",
    "Prof. Flávio Martins\n",
    "\n",
    "### Grupo 10 - BD2L12\n",
    "<dl>\n",
    "    <dt>6 horas (33.3%)</dt>\n",
    "    <dd>ist1102492 Francisco Fonseca</dd>\n",
    "    <dt>6 horas (33.3%)</dt>\n",
    "    <dd>ist1102604 Gonçalo Rua</dd>\n",
    "    <dt>6 horas (33.3%)</dt>\n",
    "    <dd>ist1102611 João Gouveia</dd>\n",
    "<dl>"
   ]
  },
  {
   "attachments": {},
   "cell_type": "markdown",
   "id": "1c5deb6e-396e-401f-9b09-af4cd09491a9",
   "metadata": {
    "tags": []
   },
   "source": [
    "# Empresa de comércio online"
   ]
  },
  {
   "attachments": {},
   "cell_type": "markdown",
   "id": "9772880f-58f0-46c8-9670-737390210bb4",
   "metadata": {
    "tags": []
   },
   "source": [
    "## 1 Conversão E-A para Modelo Relacional\n",
    "\n",
    "Recorde a notação para o Modelo Relacional exposta nas aulas teóricas como se segue:\n",
    "\n",
    "- relacaoA (<u>atributo1</u>, … , atributoN)\n",
    "    - atributoX, … , atributoZ: FK (RelacaoDestino)\n",
    "    - unique(atributoA, … , AtributoC)\n",
    "- relacaoB (<u>atributo1</u>, … , atributoN)\n",
    "    - atributoX, … , atributoZ: FK (RelacaoDestino)\n",
    "    - unique(atributoA, … , AtributoC)\n",
    "\n",
    "1. As relações são expressas por um nome seguido dos atributos entre parêntesis;\n",
    "    - As chave primárias são expressas sublinhando os atributos que a compõem;\n",
    "    - As chaves estrangeiras para outras relações são expressas através da lista de atributos que a compõem, seguida de “: FK(RelacaoDestino)”. A ordem dos atributos que compõem a FK deve corresponder à ordem dos atributos da chave na relação destino;\n",
    "    - As chaves candidatas são expressas através da expressão “unique”, seguida da lista de atributos que a compõem entre parêntesis;\n",
    "    - As restrições de integridade ao Modelo Relacional são descritas em termos dos conceitos deste modelo."
   ]
  },
  {
   "attachments": {},
   "cell_type": "markdown",
   "id": "664e4242-9646-4d1a-9dac-4d8d4efd4ad6",
   "metadata": {},
   "source": [
    "### 1.1 Modelo Relacional com Restrições de Integridade\n",
    "\n",
    "1. Desenvolva um Modelo Relacional correspondente ao modelo Entidade-Associação;\n",
    "2. Complemente a seu Modelo Relacional com um conjunto de Restrições de Integridade que represente o modelo E-A apresentado com a maior fidelidade."
   ]
  },
  {
   "attachments": {},
   "cell_type": "markdown",
   "id": "28f1998a-b5d6-41b5-851c-4318bb556cb8",
   "metadata": {},
   "source": [
    "- Customer(<u>cust_no</u>, name, email, phone, address)\n",
    "    - unique(email)\n",
    "- Order(<u>order_no</u>, date, cust_no)\n",
    "    - cust_no: FK(Customer) NOT NULL\n",
    "    - (IC-2) Any order_no in Order must exist in the contains relation\n",
    "- Sale(<u>order_no</u>, payer_no)\n",
    "    - order_no: FK(Order)\n",
    "    - payer_no: FK(Customer.cust_no)\n",
    "    - (IC-1) Customers can only pay for the Sale of an Order they have placed themselves ((order_no, payer_no) in (Order.order_no, Order.cust_no))\n",
    "    - (IC-8) When an Order is removed from the database it must also be removed from Sale\n",
    "- Product(<u>sku</u>, name, description, price)\n",
    "    - (price > 0)\n",
    "    - (IC-3) Any sku in Product must exist in the supply-contract relation\n",
    "- EAN Product(<u>sku</u>, ean)\n",
    "    - sku: FK(Product)\n",
    "    - (IC-6) When a Product is removed from the database it must also be removed from EAN Product\n",
    "- contains(<u>order_no</u>, <u>sku</u>, qty)\n",
    "    - order_no: FK(Order)\n",
    "    - sku: FK(Product)\n",
    "- Supplier(<u>TIN</u>, name, address)\n",
    "    - (IC-4) Any TIN in Supplier must exist in the supply-contract relation\n",
    "- supply-contract(<u>TIN</u>, sku, date)\n",
    "    - TIN: FK(Supplier)\n",
    "    - sku: FK(Product) NOT NULL\n",
    "- Employee(<u>ssn</u>, TIN, bdate, name)\n",
    "    - (IC-5) Any ssn in Employee must exist in the works relation\n",
    "    - unique(TIN)\n",
    "- process(<u>order_no</u>, <u>ssn</u>)\n",
    "    - order_no: FK(Order)\n",
    "    - ssn: FK(Employee)\n",
    "- Department(<u>name</u>)\n",
    "- Workplace(<u>address</u>, lat, long)\n",
    "    - unique(lat, long)\n",
    "- Office(<u>address</u>)\n",
    "    - address: FK(Workplace)\n",
    "    - (IC-7) When a Workplace is removed from the database it must also be removed from Office and/or Warehouse\n",
    "- Warehouse(<u>address</u>)\n",
    "    - address: FK(Workplace)\n",
    "    - (IC-7) When a Workplace is removed from the database it must also be removed from Office and/or Warehouse\n",
    "- works(<u>ssn</u>, <u>department</u>, <u>address</u>)\n",
    "    - ssn: FK(Employee)\n",
    "    - department: FK(Department.name)\n",
    "    - address: FK(Workplace)\n",
    "- delivery(<u>address</u>, <u>TIN</u>)\n",
    "    - address: FK(Warehouse)\n",
    "    - TIN: FK(supply-contract)"
   ]
  },
  {
   "attachments": {},
   "cell_type": "markdown",
   "id": "f524e1ac-1589-4a49-a709-ad91c6421260",
   "metadata": {},
   "source": [
    "### 1.2 Restrições de Integridade não passíveis de conversão\n",
    "\n",
    "Identifique todas as Restrições de Integridade do modelo Entidade-Associação apresentado que não são passíveis de conversão para o modelo relacional."
   ]
  },
  {
   "attachments": {},
   "cell_type": "markdown",
   "id": "a5cf04b8-494d-4f83-9a36-bdfb4653b2b1",
   "metadata": {},
   "source": [
    "- (IC-1) Customers can only pay for the Sale of an Order they have placed themselves ((order_no, cust_no) in (Order.order_no, Order.cust_no))\n",
    "- (IC-2) Any order_no in Order must exist in the contains relation\n",
    "- (IC-3) Any sku in Product must exist in the supply-contract relation\n",
    "- (IC-4) Any TIN in Supplier must exist in the supply-contract relation\n",
    "- (IC-5) Any ssn in Employee must exist in the works relation\n",
    "- (IC-6) When a Product is removed from the database it must also be removed from EAN Product\n",
    "- (IC-7) When a Workplace is removed from the database it must also be removed from Office and/or Warehouse\n",
    "- (IC-8) When an Order is removed from the database it must also be removed from Sale"
   ]
  },
  {
   "attachments": {},
   "cell_type": "markdown",
   "id": "642bc461-91b7-4960-9dd8-12455cf2ba61",
   "metadata": {},
   "source": [
    "## 2 Algebra Relacional\n",
    "\n",
    "Recorde a notação exposta nas aulas teóricas como se segue:\n",
    "\n",
    "$\\Pi_{atributo1} \\big( \\sigma_{atributo1=atributo2} (relacaoA \\bowtie relacaoB) \\big)$\n",
    "\n",
    "#### Simbolos\n",
    "- $\\cup$ union \t\t\t\n",
    "- $\\cap$ intersection \t\t\n",
    "- $-$ difference \t\t\n",
    "- $\\times$ cartesian product \n",
    "- $\\div$ division \t\t\t\n",
    "- $\\rho$ rename \t\t\t\n",
    "- $\\bowtie$ natural join \t\t\n",
    "- $\\wedge$ Logical AND \t\n",
    "- $\\vee$ Logical OR \t\n",
    "- $\\neg$ Logical NOT \t\n",
    "\n",
    "Considerando o modelo relacional desenvolvido, apresente as expressões algébricas correspondentes a cada uma das seguintes interrogações:"
   ]
  },
  {
   "attachments": {},
   "cell_type": "markdown",
   "id": "8246494b-f88b-4849-8515-67001c796cf8",
   "metadata": {
    "tags": []
   },
   "source": [
    "1. Liste o nome de todos os clientes que fizeram encomendas contendo produtos de preço superior a €50 no ano de 2023;"
   ]
  },
  {
   "attachments": {},
   "cell_type": "markdown",
   "id": "fb153d59-2d55-484f-bed9-0c60e02b27ae",
   "metadata": {},
   "source": [
    "$\\Pi_{Customer.name} \\big( \\sigma_{date \\geq 01-01-2023 \\wedge date \\leq 31-12-2023 \\wedge price>50} (Customer \\bowtie (Order \\bowtie (contains \\bowtie Product))) \\big)$"
   ]
  },
  {
   "attachments": {},
   "cell_type": "markdown",
   "id": "7fb1b56e-8173-4c29-8155-b487003dc522",
   "metadata": {},
   "source": [
    "2. Liste o nome de todos os empregados que trabalham em armazéns e não em escritórios e processaram encomendas em Janeiro de 2023;"
   ]
  },
  {
   "attachments": {},
   "cell_type": "markdown",
   "id": "01c30a54-83d4-43c1-a7b2-871cef8552ec",
   "metadata": {},
   "source": [
    "$ ssns \\leftarrow \\Pi_{ssn} \\big ((Employee \\bowtie (works \\bowtie Warehouse)) \\big ) - \\Pi_{ssn} \\big ((Employee \\bowtie (works \\bowtie Office)) \\big) \\\\ \\Pi_{name} \\big ( \\sigma_{date \\geq 01-01-2023 \\wedge date \\leq 31-01-2023} (ssns \\bowtie (Employee \\bowtie (process \\bowtie Order))) \\big )$"
   ]
  },
  {
   "attachments": {},
   "cell_type": "markdown",
   "id": "28bddbbb-11cc-4588-9d0b-61e04e09d7ec",
   "metadata": {},
   "source": [
    "3. Indique o nome do produto mais vendido;"
   ]
  },
  {
   "attachments": {},
   "cell_type": "markdown",
   "id": "e0411d6f-5cc9-4d4a-a70f-d3a3957b1111",
   "metadata": {},
   "source": [
    "$ counts \\leftarrow \\big( {}_{sku, name}G_{sum(qty) \\rightarrow qty} (Product \\bowtie (contains \\bowtie Sale))\\big) \\\\ \\Pi_{name} \\big (G_{max(qty) \\rightarrow qty} (counts) \\bowtie counts \\big )$"
   ]
  },
  {
   "attachments": {},
   "cell_type": "markdown",
   "id": "1efe4041-a42e-44d8-830e-d2692fab7793",
   "metadata": {},
   "source": [
    "4. Indique o valor total de cada venda realizada."
   ]
  },
  {
   "attachments": {},
   "cell_type": "markdown",
   "id": "31ba6844-b37c-40df-9745-7db2f3254fda",
   "metadata": {},
   "source": [
    "$ {}_{order\\_no}G_{sum(price*qty) \\rightarrow value} \\big( \\Pi_{order\\_no, sku, price * qty} (Product \\bowtie (contains \\bowtie Sale)) \\big) $"
   ]
  },
  {
   "attachments": {},
   "cell_type": "markdown",
   "id": "79967746-e9fd-4e5d-955e-4ae33b815dbf",
   "metadata": {},
   "source": [
    "## 3 Tradução do Modelo Relacional para SQL"
   ]
  },
  {
   "attachments": {},
   "cell_type": "markdown",
   "id": "ad573c6d-c9cc-401b-ab2b-8f86923be802",
   "metadata": {
    "tags": []
   },
   "source": [
    "### 3.1 Esquema Relacional (schema.sql)\n",
    "\n",
    "Crie uma base de dados SQL correspondente ao esquema Relacional desenvolvido no ponto anterior.\n",
    "Utilizando a linguagem SQL (DDL), apresente as instruções para criar o esquema de bases de dados correspondente ao modelo relacional desenvolvido. Deve certificar-se de que os tipos de dados e tamanhos de campo selecionados sejam os mais apropriados. As restrições aplicáveis a cada campo, linha e tabela também devem ser especificadas recorrendo às instruções NOT NULL, CHECK, PRIMARY KEY, UNIQUE e FOREIGN KEY conforme seja apropriado.\n",
    "\n",
    "\n",
    "Nota: Apresente todas as restrições existentes no modelo Relacional que não podem ser capturadas (implementadas) no esquema SQL, escrevendo-as como comentários na tabela respectiva.\n"
   ]
  },
  {
   "cell_type": "code",
   "execution_count": null,
   "id": "195436d2-5bb5-4ab8-879b-b7ca19fb8d8a",
   "metadata": {
    "tags": []
   },
   "outputs": [],
   "source": [
    "%load_ext sql\n",
    "%sql postgresql://db:db@postgres/db"
   ]
  },
  {
   "cell_type": "code",
   "execution_count": null,
   "id": "7dad4bdb-454b-4e0a-af55-93580ab2b56c",
   "metadata": {
    "tags": []
   },
   "outputs": [],
   "source": [
    "%sql -f schema.sql"
   ]
  },
  {
   "attachments": {},
   "cell_type": "markdown",
   "id": "9bfabefe-cc1f-4544-8024-39bcdd065bba",
   "metadata": {},
   "source": [
    "### 3.2 Carregamento da Base de Dados\n",
    "\n",
    "Crie um script SQL (DML) com todas as instruções INSERT necessárias para criar alguns dados de teste sintéticos para facilitar a validação dos resultados esperados das consultas (lembre-se de que cada tabela deve conter pelo menos uma linha e que todas as consulta têm de retornar um resultado não vazio)."
   ]
  },
  {
   "cell_type": "code",
   "execution_count": null,
   "id": "689fbf59-980b-4c09-8b8e-7beee128b324",
   "metadata": {
    "tags": []
   },
   "outputs": [],
   "source": [
    "%sql -f populate.sql"
   ]
  },
  {
   "attachments": {},
   "cell_type": "markdown",
   "id": "bb425531-1147-4060-a775-53f06eca7e5e",
   "metadata": {},
   "source": [
    "## 4 Linguagem SQL\n",
    "\n",
    "Apresente a expressão SQL correspondente  a cada uma das interrogações de Álgebra Relacional.\n"
   ]
  },
  {
   "attachments": {},
   "cell_type": "markdown",
   "id": "8b4fcf67-1556-422c-b607-a71732d7d2a4",
   "metadata": {
    "tags": []
   },
   "source": [
    "1. Liste o nome de todos os clientes que fizeram encomendas contendo produtos de preço superior a €50 no ano de 2023;"
   ]
  },
  {
   "cell_type": "code",
   "execution_count": null,
   "id": "15197f8d-073e-4cb8-861f-be594a6efadd",
   "metadata": {
    "tags": [],
    "vscode": {
     "languageId": "sql"
    }
   },
   "outputs": [],
   "source": [
    "%%sql\n",
    "\n",
    "SELECT DISTINCT Customer.name FROM Customer\n",
    "    NATURAL JOIN \"Order\"\n",
    "    NATURAL JOIN contains\n",
    "    INNER JOIN Product ON contains.sku = Product.sku\n",
    "    WHERE\n",
    "        EXTRACT(YEAR FROM \"date\") = 2023 AND\n",
    "        price > 5000;\n"
   ]
  },
  {
   "attachments": {},
   "cell_type": "markdown",
   "id": "9b744170-a244-43b3-984f-3654d95c5f4f",
   "metadata": {
    "tags": []
   },
   "source": [
    "2. Liste o nome de todos os empregados que trabalham em armazéns e não em escritórios e processaram encomendas em Janeiro de 2023;"
   ]
  },
  {
   "cell_type": "code",
   "execution_count": null,
   "id": "4da673da-e257-421f-a84e-ec7cacc74c8d",
   "metadata": {
    "tags": [],
    "vscode": {
     "languageId": "sql"
    }
   },
   "outputs": [],
   "source": [
    "%%sql\n",
    "\n",
    "SELECT DISTINCT \"name\" FROM Employee\n",
    "    NATURAL JOIN works\n",
    "    NATURAL JOIN Warehouse\n",
    "    NATURAL JOIN process\n",
    "    NATURAL JOIN \"Order\"\n",
    "    WHERE\n",
    "        EXTRACT(YEAR FROM \"date\") = 2023 AND\n",
    "        EXTRACT(MONTH FROM \"date\") = 1 AND\n",
    "        ssn NOT IN \n",
    "            (SELECT ssn FROM Employee\n",
    "                NATURAL JOIN works\n",
    "                NATURAL JOIN Office);\n"
   ]
  },
  {
   "attachments": {},
   "cell_type": "markdown",
   "id": "a3a2597b-7409-4895-b5db-27e405b6f578",
   "metadata": {
    "tags": []
   },
   "source": [
    "3. Indique o nome do produto mais vendido;"
   ]
  },
  {
   "cell_type": "code",
   "execution_count": null,
   "id": "b2f660cd-895f-473a-b806-b818615022bb",
   "metadata": {
    "tags": [],
    "vscode": {
     "languageId": "sql"
    }
   },
   "outputs": [],
   "source": [
    "%%sql\n",
    "\n",
    "SELECT \"name\" FROM Product\n",
    "    NATURAL JOIN contains\n",
    "    NATURAL JOIN Sale\n",
    "    GROUP BY \"name\"\n",
    "    HAVING SUM(qty) >= ALL (\n",
    "        SELECT SUM(qty) FROM Product\n",
    "            NATURAL JOIN contains\n",
    "            NATURAL JOIN Sale\n",
    "            GROUP BY \"name\"\n",
    "        );\n"
   ]
  },
  {
   "attachments": {},
   "cell_type": "markdown",
   "id": "e977128e-13cd-4504-9cb6-5ec1a847e9fd",
   "metadata": {},
   "source": [
    "4. Indique o valor total de cada venda realizada."
   ]
  },
  {
   "cell_type": "code",
   "execution_count": null,
   "id": "bed65cfe-3a3c-4244-847b-808f84b12e47",
   "metadata": {
    "tags": [],
    "vscode": {
     "languageId": "sql"
    }
   },
   "outputs": [],
   "source": [
    "%%sql\n",
    "\n",
    "SELECT order_no, SUM(price*qty) AS \"value\" FROM Product\n",
    "    NATURAL JOIN contains\n",
    "    NATURAL JOIN Sale\n",
    "    GROUP BY order_no\n",
    "    ORDER BY order_no;\n"
   ]
  },
  {
   "cell_type": "code",
   "execution_count": null,
   "id": "bd4d60dc",
   "metadata": {
    "vscode": {
     "languageId": "sql"
    }
   },
   "outputs": [],
   "source": []
  }
 ],
 "metadata": {
  "kernelspec": {
   "display_name": "Python 3.11.3 64-bit",
   "language": "python",
   "name": "python3"
  },
  "language_info": {
   "codemirror_mode": {
    "name": "ipython",
    "version": 3
   },
   "file_extension": ".py",
   "mimetype": "text/x-python",
   "name": "python",
   "nbconvert_exporter": "python",
   "pygments_lexer": "ipython3",
   "version": "3.11.3"
  },
  "vscode": {
   "interpreter": {
    "hash": "e7370f93d1d0cde622a1f8e1c04877d8463912d04d973331ad4851f04de6915a"
   }
  }
 },
 "nbformat": 4,
 "nbformat_minor": 5
}
