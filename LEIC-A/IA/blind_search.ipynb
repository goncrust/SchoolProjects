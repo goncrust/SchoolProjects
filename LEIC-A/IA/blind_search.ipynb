{
 "cells": [
  {
   "attachments": {},
   "cell_type": "markdown",
   "metadata": {},
   "source": [
    "Iremos explorar os agentes baseados em objetivos, focando-nos num subtipo em particular: agentes que resolvem problemas."
   ]
  },
  {
   "attachments": {},
   "cell_type": "markdown",
   "metadata": {},
   "source": [
    "### Problem-Solving Agents\n",
    "\n",
    "Agentes que resolvem problemas, ao contrário de agentes mais elementares, podem considerar ações futuras e suas consequências. Não é trivial encontrar a forma ótima de atingir um objetivo (estado final onde queremos chegar, tendo em conta um conjunto de medidas de performance), pelo que acabamos frequentemente por usar **estratégias de procura** adequadas à situação em que o agente se encontra. A \"forma ótima de atingir\" um objetivo corresponde à sequência de ações que o agente terá sucessivamente de tomar."
   ]
  },
  {
   "attachments": {},
   "cell_type": "markdown",
   "metadata": {},
   "source": [
    "#### Pontos-chave para formulação de problemas através destes agentes\n",
    "\n",
    "- Estado inicial\n",
    "- Ações que o agente pode tomar (considerando o seu estado atual)\n",
    "- Modelo de transição (retorna o estado resultanto de executar uma dada ação partindo de um certo estado)\n",
    "- Teste objetivo (teste simples que diz se um dado estado é ou não um estado objetivo)\n",
    "- Custo caminho (função que atribui um custo numérico a cada caminho (como um todo), depende das mediades de performance pretendidas e refere-se ao passado: sei (e só sei) o caminho que já percorri)"
   ]
  },
  {
   "cell_type": "code",
   "execution_count": null,
   "metadata": {},
   "outputs": [],
   "source": [
    "sequence = [] # sequência de ações a executar\n",
    "state # descrição do estado atual\n",
    "goal # descrição do objetivo, inialmente não definido\n",
    "problem = [...] # formulação do problema\n",
    "def simple_problem_solving_agent(perception):\n",
    "    state = update_state(state, perception)\n",
    "    if not sequence: # se a sequence está vazia\n",
    "        goal = formulate_goal(state)\n",
    "        problem = formulate_problem(state, goal) \n",
    "        sequence = search(problem)\n",
    "        if not sequence:\n",
    "            return \"I don't know how to solve this problem\"\n",
    "    action = sequence.first\n",
    "    sequence = sequence.rest\n",
    "    return action"
   ]
  }
 ],
 "metadata": {
  "kernelspec": {
   "display_name": "Python 3",
   "language": "python",
   "name": "python3"
  },
  "language_info": {
   "name": "python",
   "version": "3.11.3 (main, Apr  5 2023, 15:52:25) [GCC 12.2.1 20230201]"
  },
  "orig_nbformat": 4,
  "vscode": {
   "interpreter": {
    "hash": "e7370f93d1d0cde622a1f8e1c04877d8463912d04d973331ad4851f04de6915a"
   }
  }
 },
 "nbformat": 4,
 "nbformat_minor": 2
}
